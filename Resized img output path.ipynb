{
 "cells": [
  {
   "cell_type": "code",
   "execution_count": 3,
   "id": "8ace1a78",
   "metadata": {},
   "outputs": [
    {
     "name": "stderr",
     "output_type": "stream",
     "text": [
      "C:\\Users\\HP\\AppData\\Local\\Temp\\ipykernel_16452\\1398176322.py:22: DeprecationWarning: LANCZOS is deprecated and will be removed in Pillow 10 (2023-07-01). Use Resampling.LANCZOS instead.\n",
      "  resized_image = image.resize((new_width, new_height), Image.LANCZOS)\n"
     ]
    },
    {
     "name": "stdout",
     "output_type": "stream",
     "text": [
      "Resized image saved at D:/dc/hd Images/resized\\resized_pexels-eberhard-grossgasteiger-443446.jpg\n",
      "Resized image saved at D:/dc/hd Images/resized\\resized_pexels-hiran-jay-7778287.jpg\n",
      "Resized image saved at D:/dc/hd Images/resized\\resized_pexels-kristina-paukshtite-1460835.jpg\n",
      "Resized image saved at D:/dc/hd Images/resized\\resized_pexels-pixabay-207088.jpg\n",
      "Resized image saved at D:/dc/hd Images/resized\\resized_pexels-pixabay-33109.jpg\n",
      "Resized image saved at D:/dc/hd Images/resized\\resized_pexels-pixabay-60597.jpg\n"
     ]
    }
   ],
   "source": [
    "from PIL import Image\n",
    "import os\n",
    "\n",
    "def resize_image(image_path, output_folder, max_width=1920, max_height=1080):\n",
    "    image = Image.open(image_path)\n",
    "    width, height = image.size\n",
    "\n",
    "    if width > max_width or height > max_height:\n",
    "        # Calculate the aspect ratio\n",
    "        aspect_ratio = width / height\n",
    "\n",
    "        if aspect_ratio > 1:\n",
    "            # Landscape image\n",
    "            new_width = max_width\n",
    "            new_height = int(max_width / aspect_ratio)\n",
    "        else:\n",
    "            # Portrait image or square image\n",
    "            new_height = max_height\n",
    "            new_width = int(max_height * aspect_ratio)\n",
    "\n",
    "        # Resize the image while maintaining aspect ratio using Lanczos filter\n",
    "        resized_image = image.resize((new_width, new_height), Image.LANCZOS)\n",
    "        filename = os.path.basename(image_path)\n",
    "        output_path = os.path.join(output_folder, \"resized_\" + filename)\n",
    "        resized_image.save(output_path)\n",
    "        print(f\"Resized image saved at {output_path}\")\n",
    "    else:\n",
    "        print(\"Image does not need to be resized\")\n",
    "\n",
    "# Folder path containing images\n",
    "input_folder = \"D:\\dc\\hd Images\"\n",
    "output_folder = \"D:/dc/hd Images/resized\"\n",
    "\n",
    "# Iterate over each file in the input folder\n",
    "for filename in os.listdir(input_folder):\n",
    "    if filename.endswith(\".jpg\") or filename.endswith(\".png\"):\n",
    "        image_path = os.path.join(input_folder, filename)\n",
    "        resize_image(image_path, output_folder)\n",
    "\n"
   ]
  },
  {
   "cell_type": "code",
   "execution_count": null,
   "id": "fb52e9d6",
   "metadata": {},
   "outputs": [],
   "source": []
  }
 ],
 "metadata": {
  "kernelspec": {
   "display_name": "Python 3 (ipykernel)",
   "language": "python",
   "name": "python3"
  },
  "language_info": {
   "codemirror_mode": {
    "name": "ipython",
    "version": 3
   },
   "file_extension": ".py",
   "mimetype": "text/x-python",
   "name": "python",
   "nbconvert_exporter": "python",
   "pygments_lexer": "ipython3",
   "version": "3.9.13"
  }
 },
 "nbformat": 4,
 "nbformat_minor": 5
}
